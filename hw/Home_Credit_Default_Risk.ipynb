{
  "nbformat": 4,
  "nbformat_minor": 0,
  "metadata": {
    "colab": {
      "name": "Home Credit Default Risk.ipynb",
      "provenance": [],
      "collapsed_sections": [],
      "authorship_tag": "ABX9TyNvRX5QkFrn8hpijHpdJbUG",
      "include_colab_link": true
    },
    "kernelspec": {
      "name": "python3",
      "display_name": "Python 3"
    },
    "accelerator": "TPU"
  },
  "cells": [
    {
      "cell_type": "markdown",
      "metadata": {
        "id": "view-in-github",
        "colab_type": "text"
      },
      "source": [
        "<a href=\"https://colab.research.google.com/github/hemil19/AISem3/blob/master/hw/Home_Credit_Default_Risk.ipynb\" target=\"_parent\"><img src=\"https://colab.research.google.com/assets/colab-badge.svg\" alt=\"Open In Colab\"/></a>"
      ]
    },
    {
      "cell_type": "markdown",
      "metadata": {
        "id": "ZV_GAWvlZAtD",
        "colab_type": "text"
      },
      "source": [
        "**Submission by : Hemil Shah(D011)**"
      ]
    },
    {
      "cell_type": "code",
      "metadata": {
        "id": "kC0uK2w3yvrv",
        "colab_type": "code",
        "colab": {}
      },
      "source": [
        "#!pip3 install kaggle"
      ],
      "execution_count": null,
      "outputs": []
    },
    {
      "cell_type": "code",
      "metadata": {
        "id": "EQrzpXPAspKC",
        "colab_type": "code",
        "colab": {
          "base_uri": "https://localhost:8080/",
          "height": 34
        },
        "outputId": "f56a306e-d124-43bd-ce5e-3800d4173522"
      },
      "source": [
        "from google.colab import drive\n",
        "drive.mount('/content/gdrive')"
      ],
      "execution_count": null,
      "outputs": [
        {
          "output_type": "stream",
          "text": [
            "Drive already mounted at /content/gdrive; to attempt to forcibly remount, call drive.mount(\"/content/gdrive\", force_remount=True).\n"
          ],
          "name": "stdout"
        }
      ]
    },
    {
      "cell_type": "code",
      "metadata": {
        "id": "57dYdHwpu3ww",
        "colab_type": "code",
        "colab": {}
      },
      "source": [
        "import os\n",
        "os.environ['KAGGLE_CONFIG_DIR'] = \"/content/gdrive/My Drive/kaggle\""
      ],
      "execution_count": null,
      "outputs": []
    },
    {
      "cell_type": "code",
      "metadata": {
        "id": "MS1xVnjCvK2s",
        "colab_type": "code",
        "colab": {
          "base_uri": "https://localhost:8080/",
          "height": 34
        },
        "outputId": "bf45dd8a-e5ac-437a-bbb9-258e2f718300"
      },
      "source": [
        "%cd /content/gdrive/My Drive/kaggle"
      ],
      "execution_count": null,
      "outputs": [
        {
          "output_type": "stream",
          "text": [
            "/content/gdrive/My Drive/kaggle\n"
          ],
          "name": "stdout"
        }
      ]
    },
    {
      "cell_type": "code",
      "metadata": {
        "id": "jZe-4WwQwgit",
        "colab_type": "code",
        "colab": {
          "base_uri": "https://localhost:8080/",
          "height": 496
        },
        "outputId": "99dc9796-64ea-4bad-ed2d-2d56c8db86c8"
      },
      "source": [
        "!kaggle competitions download -c home-credit-default-risk"
      ],
      "execution_count": null,
      "outputs": [
        {
          "output_type": "stream",
          "text": [
            "Warning: Looks like you're using an outdated API Version, please consider updating (server 1.5.6 / client 1.5.4)\n",
            "Downloading POS_CASH_balance.csv.zip to /content/gdrive/My Drive/kaggle\n",
            " 91% 99.0M/109M [00:00<00:00, 126MB/s]\n",
            "100% 109M/109M [00:00<00:00, 124MB/s] \n",
            "Downloading application_test.csv.zip to /content/gdrive/My Drive/kaggle\n",
            " 86% 5.00M/5.81M [00:00<00:00, 35.3MB/s]\n",
            "100% 5.81M/5.81M [00:00<00:00, 37.0MB/s]\n",
            "Downloading bureau.csv.zip to /content/gdrive/My Drive/kaggle\n",
            " 90% 33.0M/36.8M [00:00<00:00, 73.9MB/s]\n",
            "100% 36.8M/36.8M [00:00<00:00, 74.8MB/s]\n",
            "HomeCredit_columns_description.csv: Skipping, found more recently modified local copy (use --force to force download)\n",
            "sample_submission.csv: Skipping, found more recently modified local copy (use --force to force download)\n",
            "Downloading credit_card_balance.csv.zip to /content/gdrive/My Drive/kaggle\n",
            " 95% 92.0M/96.7M [00:00<00:00, 117MB/s]\n",
            "100% 96.7M/96.7M [00:00<00:00, 117MB/s]\n",
            "Downloading installments_payments.csv.zip to /content/gdrive/My Drive/kaggle\n",
            " 96% 260M/271M [00:02<00:00, 125MB/s]\n",
            "100% 271M/271M [00:02<00:00, 114MB/s]\n",
            "Downloading previous_application.csv.zip to /content/gdrive/My Drive/kaggle\n",
            " 89% 68.0M/76.3M [00:00<00:00, 95.0MB/s]\n",
            "100% 76.3M/76.3M [00:00<00:00, 90.9MB/s]\n",
            "Downloading bureau_balance.csv.zip to /content/gdrive/My Drive/kaggle\n",
            " 88% 50.0M/56.8M [00:01<00:00, 32.4MB/s]\n",
            "100% 56.8M/56.8M [00:01<00:00, 45.0MB/s]\n",
            "Downloading application_train.csv.zip to /content/gdrive/My Drive/kaggle\n",
            " 83% 30.0M/36.1M [00:00<00:00, 69.0MB/s]\n",
            "100% 36.1M/36.1M [00:00<00:00, 72.6MB/s]\n"
          ],
          "name": "stdout"
        }
      ]
    },
    {
      "cell_type": "code",
      "metadata": {
        "id": "8OuqxpEzw8rQ",
        "colab_type": "code",
        "colab": {
          "base_uri": "https://localhost:8080/",
          "height": 442
        },
        "outputId": "0c9e2735-e2f6-478a-ce44-7bb838608060"
      },
      "source": [
        "#unzipping the zip files and deleting the zip files\n",
        "!unzip \\*.zip  && rm *.zip"
      ],
      "execution_count": null,
      "outputs": [
        {
          "output_type": "stream",
          "text": [
            "Archive:  POS_CASH_balance.csv.zip\n",
            "replace POS_CASH_balance.csv? [y]es, [n]o, [A]ll, [N]one, [r]ename: n\n",
            "\n",
            "Archive:  application_test.csv.zip\n",
            "replace application_test.csv? [y]es, [n]o, [A]ll, [N]one, [r]ename: n\n",
            "\n",
            "Archive:  bureau.csv.zip\n",
            "replace bureau.csv? [y]es, [n]o, [A]ll, [N]one, [r]ename: n\n",
            "\n",
            "Archive:  credit_card_balance.csv.zip\n",
            "replace credit_card_balance.csv? [y]es, [n]o, [A]ll, [N]one, [r]ename: n\n",
            "\n",
            "Archive:  installments_payments.csv.zip\n",
            "replace installments_payments.csv? [y]es, [n]o, [A]ll, [N]one, [r]ename: n\n",
            "\n",
            "Archive:  previous_application.csv.zip\n",
            "replace previous_application.csv? [y]es, [n]o, [A]ll, [N]one, [r]ename: n\n",
            "\n",
            "Archive:  bureau_balance.csv.zip\n",
            "replace bureau_balance.csv? [y]es, [n]o, [A]ll, [N]one, [r]ename: n\n",
            "\n",
            "Archive:  application_train.csv.zip\n",
            "replace application_train.csv? [y]es, [n]o, [A]ll, [N]one, [r]ename: n\n",
            "\n",
            "8 archives were successfully processed.\n"
          ],
          "name": "stdout"
        }
      ]
    },
    {
      "cell_type": "code",
      "metadata": {
        "id": "YC6t97o34Hh2",
        "colab_type": "code",
        "colab": {
          "base_uri": "https://localhost:8080/",
          "height": 119
        },
        "outputId": "e04a083b-0720-4eb1-e887-97807359ac13"
      },
      "source": [
        "!ls"
      ],
      "execution_count": null,
      "outputs": [
        {
          "output_type": "stream",
          "text": [
            "application_test.csv\t HomeCredit_columns_description.csv\n",
            "application_train.csv\t installments_payments.csv\n",
            "bureau_balance.csv\t kaggle.json\n",
            "bureau.csv\t\t POS_CASH_balance.csv\n",
            "catboost_info\t\t previous_application.csv\n",
            "credit_card_balance.csv  sample_submission.csv\n"
          ],
          "name": "stdout"
        }
      ]
    },
    {
      "cell_type": "code",
      "metadata": {
        "id": "8b-4JNTXzHDp",
        "colab_type": "code",
        "colab": {}
      },
      "source": [
        "import pandas as pd\n",
        "import warnings\n",
        "warnings.filterwarnings('ignore')\n",
        "import numpy as np\n",
        "train=pd.read_csv('application_train.csv')\n",
        "#bureau=pd.read_csv('bureau.csv')\n",
        "#bureau_balance=pd.read_csv('bureau_balance.csv')\n",
        "#credit_card_balance=pd.read_csv('credit_card_balance.csv')\n",
        "#installments_payments=pd.read_csv('installments_payments.csv')\n",
        "#previous_application=pd.read_csv('previous_application.csv')\n",
        "#POS_CASH_balance=pd.read_csv('POS_CASH_balance.csv')"
      ],
      "execution_count": null,
      "outputs": []
    },
    {
      "cell_type": "code",
      "metadata": {
        "id": "X3uz-4_ckBqu",
        "colab_type": "code",
        "colab": {
          "base_uri": "https://localhost:8080/",
          "height": 34
        },
        "outputId": "e4adca45-f5f0-4ca8-b732-56e97e7392a8"
      },
      "source": [
        "train.shape"
      ],
      "execution_count": null,
      "outputs": [
        {
          "output_type": "execute_result",
          "data": {
            "text/plain": [
              "(307511, 122)"
            ]
          },
          "metadata": {
            "tags": []
          },
          "execution_count": 7
        }
      ]
    },
    {
      "cell_type": "code",
      "metadata": {
        "id": "u2A8WuDvCI_k",
        "colab_type": "code",
        "colab": {
          "base_uri": "https://localhost:8080/",
          "height": 279
        },
        "outputId": "d6091519-9c25-4427-dba7-2d76e5b38203"
      },
      "source": [
        "train['TARGET'].value_counts().plot(kind='bar')"
      ],
      "execution_count": null,
      "outputs": [
        {
          "output_type": "execute_result",
          "data": {
            "text/plain": [
              "<matplotlib.axes._subplots.AxesSubplot at 0x7f5ec13ec7f0>"
            ]
          },
          "metadata": {
            "tags": []
          },
          "execution_count": 8
        },
        {
          "output_type": "display_data",
          "data": {
            "image/png": "[encoded data removed]",
            "text/plain": [
              "<Figure size 432x288 with 1 Axes>"
            ]
          },
          "metadata": {
            "tags": [],
            "needs_background": "light"
          }
        }
      ]
    },
    {
      "cell_type": "markdown",
      "metadata": {
        "id": "wCfaviJH3pak",
        "colab_type": "text"
      },
      "source": [
        "As there are too many rows and also the target variable is imbalanced so for faster computation i choose to take random sample of the train dataset"
      ]
    },
    {
      "cell_type": "code",
      "metadata": {
        "id": "K032u3TVmFv0",
        "colab_type": "code",
        "colab": {}
      },
      "source": [
        "train=train.sample(frac =.30) "
      ],
      "execution_count": null,
      "outputs": []
    },
    {
      "cell_type": "code",
      "metadata": {
        "id": "lO0qNtg0PJHf",
        "colab_type": "code",
        "colab": {
          "base_uri": "https://localhost:8080/",
          "height": 68
        },
        "outputId": "a2f393c6-a6be-4fe1-bedc-07be2fb8aeda"
      },
      "source": [
        "train['TARGET'].value_counts()"
      ],
      "execution_count": null,
      "outputs": [
        {
          "output_type": "execute_result",
          "data": {
            "text/plain": [
              "0    84846\n",
              "1     7407\n",
              "Name: TARGET, dtype: int64"
            ]
          },
          "metadata": {
            "tags": []
          },
          "execution_count": 10
        }
      ]
    },
    {
      "cell_type": "code",
      "metadata": {
        "id": "it-Lbbg7qZ10",
        "colab_type": "code",
        "colab": {}
      },
      "source": [
        "numeric_columns=train.select_dtypes(include=['number']).columns"
      ],
      "execution_count": null,
      "outputs": []
    },
    {
      "cell_type": "code",
      "metadata": {
        "id": "WHbm-fk4rGVO",
        "colab_type": "code",
        "colab": {}
      },
      "source": [
        "categorical_columns=set(train.columns)-set(numeric_columns)"
      ],
      "execution_count": null,
      "outputs": []
    },
    {
      "cell_type": "code",
      "metadata": {
        "id": "7JIUjj2_rNR1",
        "colab_type": "code",
        "colab": {
          "base_uri": "https://localhost:8080/",
          "height": 34
        },
        "outputId": "4c4ade76-2e5c-4671-b124-ecb399472b5c"
      },
      "source": [
        "len(numeric_columns)+len(categorical_columns)==len(train.columns)"
      ],
      "execution_count": null,
      "outputs": [
        {
          "output_type": "execute_result",
          "data": {
            "text/plain": [
              "True"
            ]
          },
          "metadata": {
            "tags": []
          },
          "execution_count": 13
        }
      ]
    },
    {
      "cell_type": "code",
      "metadata": {
        "id": "kGCCE0StraPG",
        "colab_type": "code",
        "colab": {}
      },
      "source": [
        "#filling numerical values with mean\n",
        "for i in numeric_columns:\n",
        "  train[i].fillna(train[i].mean(),inplace=True)"
      ],
      "execution_count": null,
      "outputs": []
    },
    {
      "cell_type": "code",
      "metadata": {
        "id": "5tChFYSJtGvO",
        "colab_type": "code",
        "colab": {}
      },
      "source": [
        "#filling categorical values with mode\n",
        "for i in categorical_columns:\n",
        "  train[i].fillna(train[i].mode()[0],inplace=True)"
      ],
      "execution_count": null,
      "outputs": []
    },
    {
      "cell_type": "code",
      "metadata": {
        "id": "Hx49md_jocds",
        "colab_type": "code",
        "colab": {
          "base_uri": "https://localhost:8080/",
          "height": 34
        },
        "outputId": "4a11043f-0951-4cd5-e4ed-c5b96bcfc8c0"
      },
      "source": [
        "#checking if there are any null values\n",
        "train.columns[train.isnull().sum()>0]"
      ],
      "execution_count": null,
      "outputs": [
        {
          "output_type": "execute_result",
          "data": {
            "text/plain": [
              "Index([], dtype='object')"
            ]
          },
          "metadata": {
            "tags": []
          },
          "execution_count": 16
        }
      ]
    },
    {
      "cell_type": "code",
      "metadata": {
        "id": "GnpSwVZ6GnAa",
        "colab_type": "code",
        "colab": {}
      },
      "source": [
        "X=train.drop(['TARGET','SK_ID_CURR'],axis=1)\n",
        "y=train['TARGET']"
      ],
      "execution_count": null,
      "outputs": []
    },
    {
      "cell_type": "code",
      "metadata": {
        "id": "Eme423cilrHz",
        "colab_type": "code",
        "colab": {
          "base_uri": "https://localhost:8080/",
          "height": 34
        },
        "outputId": "62b4eeae-48e5-40b7-cf90-0395c862225a"
      },
      "source": [
        "X.shape"
      ],
      "execution_count": null,
      "outputs": [
        {
          "output_type": "execute_result",
          "data": {
            "text/plain": [
              "(92253, 120)"
            ]
          },
          "metadata": {
            "tags": []
          },
          "execution_count": 18
        }
      ]
    },
    {
      "cell_type": "code",
      "metadata": {
        "id": "J8rpNeaUuunD",
        "colab_type": "code",
        "colab": {
          "base_uri": "https://localhost:8080/",
          "height": 68
        },
        "outputId": "56bf1051-f98b-4868-c2cd-bc819daa3c18"
      },
      "source": [
        "X['NAME_EDUCATION_TYPE'].unique()"
      ],
      "execution_count": null,
      "outputs": [
        {
          "output_type": "execute_result",
          "data": {
            "text/plain": [
              "array(['Secondary / secondary special', 'Higher education',\n",
              "       'Incomplete higher', 'Lower secondary', 'Academic degree'],\n",
              "      dtype=object)"
            ]
          },
          "metadata": {
            "tags": []
          },
          "execution_count": 19
        }
      ]
    },
    {
      "cell_type": "code",
      "metadata": {
        "id": "kpkjyj1Ou6rF",
        "colab_type": "code",
        "colab": {}
      },
      "source": [
        "dict_map={'Higher education':4, 'Secondary / secondary special':1,\n",
        "       'Incomplete higher':3, 'Lower secondary':0, 'Academic degree':2}\n",
        "X['NAME_EDUCATION_TYPE']=X['NAME_EDUCATION_TYPE'].map(dict_map)"
      ],
      "execution_count": null,
      "outputs": []
    },
    {
      "cell_type": "code",
      "metadata": {
        "id": "rlmSx1eyueR2",
        "colab_type": "code",
        "colab": {}
      },
      "source": [
        "from sklearn.preprocessing import LabelEncoder\n",
        "le=LabelEncoder()\n",
        "for i in categorical_columns:\n",
        "  if i!='NAME_EDUCATION_TYPE':\n",
        "    X[i]=le.fit_transform(X[i])"
      ],
      "execution_count": null,
      "outputs": []
    },
    {
      "cell_type": "code",
      "metadata": {
        "id": "vfljmUh8xDYl",
        "colab_type": "code",
        "colab": {}
      },
      "source": [
        "X['AMT_CREDIT']=np.log1p(X['AMT_CREDIT'])\n",
        "X['AMT_INCOME_TOTAL']=np.log1p(X['AMT_INCOME_TOTAL'])\n",
        "X['AMT_ANNUITY']=np.log1p(X['AMT_ANNUITY'])\n",
        "X['AMT_GOODS_PRICE']=np.log1p(X['AMT_GOODS_PRICE'])"
      ],
      "execution_count": null,
      "outputs": []
    },
    {
      "cell_type": "code",
      "metadata": {
        "id": "y2UHVAsZyi41",
        "colab_type": "code",
        "colab": {}
      },
      "source": [
        "from sklearn.model_selection import train_test_split\n",
        "X_train,X_test,y_train,y_test=train_test_split(X,y,test_size=0.1,random_state=42)"
      ],
      "execution_count": null,
      "outputs": []
    },
    {
      "cell_type": "code",
      "metadata": {
        "id": "Y1qMNDAQMiLD",
        "colab_type": "code",
        "colab": {
          "base_uri": "https://localhost:8080/",
          "height": 253
        },
        "outputId": "e050645f-1721-4ebd-9640-c8e41725a61c"
      },
      "source": [
        "X_train.head()"
      ],
      "execution_count": null,
      "outputs": [
        {
          "output_type": "execute_result",
          "data": {
            "text/html": [
              "<div>\n",
              "<style scoped>\n",
              "    .dataframe tbody tr th:only-of-type {\n",
              "        vertical-align: middle;\n",
              "    }\n",
              "\n",
              "    .dataframe tbody tr th {\n",
              "        vertical-align: top;\n",
              "    }\n",
              "\n",
              "    .dataframe thead th {\n",
              "        text-align: right;\n",
              "    }\n",
              "</style>\n",
              "<table border=\"1\" class=\"dataframe\">\n",
              "  <thead>\n",
              "    <tr style=\"text-align: right;\">\n",
              "      <th></th>\n",
              "      <th>NAME_CONTRACT_TYPE</th>\n",
              "      <th>CODE_GENDER</th>\n",
              "      <th>FLAG_OWN_CAR</th>\n",
              "      <th>FLAG_OWN_REALTY</th>\n",
              "      <th>CNT_CHILDREN</th>\n",
              "      <th>AMT_INCOME_TOTAL</th>\n",
              "      <th>AMT_CREDIT</th>\n",
              "      <th>AMT_ANNUITY</th>\n",
              "      <th>AMT_GOODS_PRICE</th>\n",
              "      <th>NAME_TYPE_SUITE</th>\n",
              "      <th>NAME_INCOME_TYPE</th>\n",
              "      <th>NAME_EDUCATION_TYPE</th>\n",
              "      <th>NAME_FAMILY_STATUS</th>\n",
              "      <th>NAME_HOUSING_TYPE</th>\n",
              "      <th>REGION_POPULATION_RELATIVE</th>\n",
              "      <th>DAYS_BIRTH</th>\n",
              "      <th>DAYS_EMPLOYED</th>\n",
              "      <th>DAYS_REGISTRATION</th>\n",
              "      <th>DAYS_ID_PUBLISH</th>\n",
              "      <th>OWN_CAR_AGE</th>\n",
              "      <th>FLAG_MOBIL</th>\n",
              "      <th>FLAG_EMP_PHONE</th>\n",
              "      <th>FLAG_WORK_PHONE</th>\n",
              "      <th>FLAG_CONT_MOBILE</th>\n",
              "      <th>FLAG_PHONE</th>\n",
              "      <th>FLAG_EMAIL</th>\n",
              "      <th>OCCUPATION_TYPE</th>\n",
              "      <th>CNT_FAM_MEMBERS</th>\n",
              "      <th>REGION_RATING_CLIENT</th>\n",
              "      <th>REGION_RATING_CLIENT_W_CITY</th>\n",
              "      <th>WEEKDAY_APPR_PROCESS_START</th>\n",
              "      <th>HOUR_APPR_PROCESS_START</th>\n",
              "      <th>REG_REGION_NOT_LIVE_REGION</th>\n",
              "      <th>REG_REGION_NOT_WORK_REGION</th>\n",
              "      <th>LIVE_REGION_NOT_WORK_REGION</th>\n",
              "      <th>REG_CITY_NOT_LIVE_CITY</th>\n",
              "      <th>REG_CITY_NOT_WORK_CITY</th>\n",
              "      <th>LIVE_CITY_NOT_WORK_CITY</th>\n",
              "      <th>ORGANIZATION_TYPE</th>\n",
              "      <th>EXT_SOURCE_1</th>\n",
              "      <th>...</th>\n",
              "      <th>LIVINGAPARTMENTS_MEDI</th>\n",
              "      <th>LIVINGAREA_MEDI</th>\n",
              "      <th>NONLIVINGAPARTMENTS_MEDI</th>\n",
              "      <th>NONLIVINGAREA_MEDI</th>\n",
              "      <th>FONDKAPREMONT_MODE</th>\n",
              "      <th>HOUSETYPE_MODE</th>\n",
              "      <th>TOTALAREA_MODE</th>\n",
              "      <th>WALLSMATERIAL_MODE</th>\n",
              "      <th>EMERGENCYSTATE_MODE</th>\n",
              "      <th>OBS_30_CNT_SOCIAL_CIRCLE</th>\n",
              "      <th>DEF_30_CNT_SOCIAL_CIRCLE</th>\n",
              "      <th>OBS_60_CNT_SOCIAL_CIRCLE</th>\n",
              "      <th>DEF_60_CNT_SOCIAL_CIRCLE</th>\n",
              "      <th>DAYS_LAST_PHONE_CHANGE</th>\n",
              "      <th>FLAG_DOCUMENT_2</th>\n",
              "      <th>FLAG_DOCUMENT_3</th>\n",
              "      <th>FLAG_DOCUMENT_4</th>\n",
              "      <th>FLAG_DOCUMENT_5</th>\n",
              "      <th>FLAG_DOCUMENT_6</th>\n",
              "      <th>FLAG_DOCUMENT_7</th>\n",
              "      <th>FLAG_DOCUMENT_8</th>\n",
              "      <th>FLAG_DOCUMENT_9</th>\n",
              "      <th>FLAG_DOCUMENT_10</th>\n",
              "      <th>FLAG_DOCUMENT_11</th>\n",
              "      <th>FLAG_DOCUMENT_12</th>\n",
              "      <th>FLAG_DOCUMENT_13</th>\n",
              "      <th>FLAG_DOCUMENT_14</th>\n",
              "      <th>FLAG_DOCUMENT_15</th>\n",
              "      <th>FLAG_DOCUMENT_16</th>\n",
              "      <th>FLAG_DOCUMENT_17</th>\n",
              "      <th>FLAG_DOCUMENT_18</th>\n",
              "      <th>FLAG_DOCUMENT_19</th>\n",
              "      <th>FLAG_DOCUMENT_20</th>\n",
              "      <th>FLAG_DOCUMENT_21</th>\n",
              "      <th>AMT_REQ_CREDIT_BUREAU_HOUR</th>\n",
              "      <th>AMT_REQ_CREDIT_BUREAU_DAY</th>\n",
              "      <th>AMT_REQ_CREDIT_BUREAU_WEEK</th>\n",
              "      <th>AMT_REQ_CREDIT_BUREAU_MON</th>\n",
              "      <th>AMT_REQ_CREDIT_BUREAU_QRT</th>\n",
              "      <th>AMT_REQ_CREDIT_BUREAU_YEAR</th>\n",
              "    </tr>\n",
              "  </thead>\n",
              "  <tbody>\n",
              "    <tr>\n",
              "      <th>227715</th>\n",
              "      <td>0</td>\n",
              "      <td>0</td>\n",
              "      <td>0</td>\n",
              "      <td>1</td>\n",
              "      <td>1</td>\n",
              "      <td>12.323860</td>\n",
              "      <td>13.046564</td>\n",
              "      <td>10.212093</td>\n",
              "      <td>13.046564</td>\n",
              "      <td>6</td>\n",
              "      <td>4</td>\n",
              "      <td>1</td>\n",
              "      <td>2</td>\n",
              "      <td>1</td>\n",
              "      <td>0.018209</td>\n",
              "      <td>-15552</td>\n",
              "      <td>-2116</td>\n",
              "      <td>-4890.0</td>\n",
              "      <td>-5487</td>\n",
              "      <td>12.106462</td>\n",
              "      <td>1</td>\n",
              "      <td>1</td>\n",
              "      <td>0</td>\n",
              "      <td>1</td>\n",
              "      <td>1</td>\n",
              "      <td>0</td>\n",
              "      <td>11</td>\n",
              "      <td>2.0</td>\n",
              "      <td>3</td>\n",
              "      <td>3</td>\n",
              "      <td>1</td>\n",
              "      <td>7</td>\n",
              "      <td>0</td>\n",
              "      <td>0</td>\n",
              "      <td>0</td>\n",
              "      <td>0</td>\n",
              "      <td>0</td>\n",
              "      <td>0</td>\n",
              "      <td>30</td>\n",
              "      <td>0.501134</td>\n",
              "      <td>...</td>\n",
              "      <td>0.101865</td>\n",
              "      <td>0.108596</td>\n",
              "      <td>0.008742</td>\n",
              "      <td>0.02848</td>\n",
              "      <td>2</td>\n",
              "      <td>0</td>\n",
              "      <td>0.102585</td>\n",
              "      <td>4</td>\n",
              "      <td>0</td>\n",
              "      <td>3.0</td>\n",
              "      <td>0.0</td>\n",
              "      <td>3.0</td>\n",
              "      <td>0.0</td>\n",
              "      <td>-1490.0</td>\n",
              "      <td>0</td>\n",
              "      <td>1</td>\n",
              "      <td>0</td>\n",
              "      <td>0</td>\n",
              "      <td>0</td>\n",
              "      <td>0</td>\n",
              "      <td>0</td>\n",
              "      <td>0</td>\n",
              "      <td>0</td>\n",
              "      <td>0</td>\n",
              "      <td>0</td>\n",
              "      <td>0</td>\n",
              "      <td>0</td>\n",
              "      <td>0</td>\n",
              "      <td>0</td>\n",
              "      <td>0</td>\n",
              "      <td>0</td>\n",
              "      <td>0</td>\n",
              "      <td>0</td>\n",
              "      <td>0</td>\n",
              "      <td>0.0</td>\n",
              "      <td>0.0</td>\n",
              "      <td>0.0</td>\n",
              "      <td>0.0</td>\n",
              "      <td>0.0</td>\n",
              "      <td>1.0</td>\n",
              "    </tr>\n",
              "    <tr>\n",
              "      <th>302014</th>\n",
              "      <td>0</td>\n",
              "      <td>1</td>\n",
              "      <td>0</td>\n",
              "      <td>1</td>\n",
              "      <td>0</td>\n",
              "      <td>12.660331</td>\n",
              "      <td>13.715139</td>\n",
              "      <td>10.285667</td>\n",
              "      <td>13.715139</td>\n",
              "      <td>1</td>\n",
              "      <td>1</td>\n",
              "      <td>1</td>\n",
              "      <td>1</td>\n",
              "      <td>1</td>\n",
              "      <td>0.028663</td>\n",
              "      <td>-13294</td>\n",
              "      <td>-1770</td>\n",
              "      <td>-7388.0</td>\n",
              "      <td>-4159</td>\n",
              "      <td>12.106462</td>\n",
              "      <td>1</td>\n",
              "      <td>1</td>\n",
              "      <td>0</td>\n",
              "      <td>1</td>\n",
              "      <td>0</td>\n",
              "      <td>0</td>\n",
              "      <td>8</td>\n",
              "      <td>2.0</td>\n",
              "      <td>2</td>\n",
              "      <td>2</td>\n",
              "      <td>4</td>\n",
              "      <td>14</td>\n",
              "      <td>0</td>\n",
              "      <td>1</td>\n",
              "      <td>1</td>\n",
              "      <td>0</td>\n",
              "      <td>1</td>\n",
              "      <td>1</td>\n",
              "      <td>7</td>\n",
              "      <td>0.221321</td>\n",
              "      <td>...</td>\n",
              "      <td>0.185600</td>\n",
              "      <td>0.177300</td>\n",
              "      <td>0.003900</td>\n",
              "      <td>0.02520</td>\n",
              "      <td>2</td>\n",
              "      <td>0</td>\n",
              "      <td>0.176500</td>\n",
              "      <td>4</td>\n",
              "      <td>0</td>\n",
              "      <td>2.0</td>\n",
              "      <td>0.0</td>\n",
              "      <td>2.0</td>\n",
              "      <td>0.0</td>\n",
              "      <td>0.0</td>\n",
              "      <td>0</td>\n",
              "      <td>1</td>\n",
              "      <td>0</td>\n",
              "      <td>0</td>\n",
              "      <td>0</td>\n",
              "      <td>0</td>\n",
              "      <td>0</td>\n",
              "      <td>0</td>\n",
              "      <td>0</td>\n",
              "      <td>0</td>\n",
              "      <td>0</td>\n",
              "      <td>0</td>\n",
              "      <td>0</td>\n",
              "      <td>0</td>\n",
              "      <td>0</td>\n",
              "      <td>0</td>\n",
              "      <td>0</td>\n",
              "      <td>0</td>\n",
              "      <td>0</td>\n",
              "      <td>0</td>\n",
              "      <td>0.0</td>\n",
              "      <td>0.0</td>\n",
              "      <td>0.0</td>\n",
              "      <td>0.0</td>\n",
              "      <td>1.0</td>\n",
              "      <td>2.0</td>\n",
              "    </tr>\n",
              "    <tr>\n",
              "      <th>281483</th>\n",
              "      <td>1</td>\n",
              "      <td>0</td>\n",
              "      <td>0</td>\n",
              "      <td>0</td>\n",
              "      <td>0</td>\n",
              "      <td>11.119898</td>\n",
              "      <td>12.100718</td>\n",
              "      <td>9.105091</td>\n",
              "      <td>12.100718</td>\n",
              "      <td>1</td>\n",
              "      <td>7</td>\n",
              "      <td>3</td>\n",
              "      <td>3</td>\n",
              "      <td>5</td>\n",
              "      <td>0.010276</td>\n",
              "      <td>-7832</td>\n",
              "      <td>-1121</td>\n",
              "      <td>-7806.0</td>\n",
              "      <td>-524</td>\n",
              "      <td>12.106462</td>\n",
              "      <td>1</td>\n",
              "      <td>1</td>\n",
              "      <td>1</td>\n",
              "      <td>1</td>\n",
              "      <td>1</td>\n",
              "      <td>0</td>\n",
              "      <td>8</td>\n",
              "      <td>1.0</td>\n",
              "      <td>2</td>\n",
              "      <td>2</td>\n",
              "      <td>5</td>\n",
              "      <td>11</td>\n",
              "      <td>0</td>\n",
              "      <td>1</td>\n",
              "      <td>1</td>\n",
              "      <td>0</td>\n",
              "      <td>1</td>\n",
              "      <td>1</td>\n",
              "      <td>34</td>\n",
              "      <td>0.501134</td>\n",
              "      <td>...</td>\n",
              "      <td>0.101865</td>\n",
              "      <td>0.108596</td>\n",
              "      <td>0.008742</td>\n",
              "      <td>0.02848</td>\n",
              "      <td>2</td>\n",
              "      <td>0</td>\n",
              "      <td>0.102585</td>\n",
              "      <td>4</td>\n",
              "      <td>0</td>\n",
              "      <td>12.0</td>\n",
              "      <td>0.0</td>\n",
              "      <td>11.0</td>\n",
              "      <td>0.0</td>\n",
              "      <td>-1039.0</td>\n",
              "      <td>0</td>\n",
              "      <td>0</td>\n",
              "      <td>0</td>\n",
              "      <td>0</td>\n",
              "      <td>0</td>\n",
              "      <td>0</td>\n",
              "      <td>0</td>\n",
              "      <td>0</td>\n",
              "      <td>0</td>\n",
              "      <td>0</td>\n",
              "      <td>0</td>\n",
              "      <td>0</td>\n",
              "      <td>0</td>\n",
              "      <td>0</td>\n",
              "      <td>0</td>\n",
              "      <td>0</td>\n",
              "      <td>0</td>\n",
              "      <td>0</td>\n",
              "      <td>0</td>\n",
              "      <td>0</td>\n",
              "      <td>0.0</td>\n",
              "      <td>0.0</td>\n",
              "      <td>0.0</td>\n",
              "      <td>0.0</td>\n",
              "      <td>0.0</td>\n",
              "      <td>0.0</td>\n",
              "    </tr>\n",
              "    <tr>\n",
              "      <th>298169</th>\n",
              "      <td>0</td>\n",
              "      <td>0</td>\n",
              "      <td>0</td>\n",
              "      <td>0</td>\n",
              "      <td>1</td>\n",
              "      <td>12.218500</td>\n",
              "      <td>13.569509</td>\n",
              "      <td>10.687172</td>\n",
              "      <td>13.422469</td>\n",
              "      <td>1</td>\n",
              "      <td>7</td>\n",
              "      <td>4</td>\n",
              "      <td>1</td>\n",
              "      <td>1</td>\n",
              "      <td>0.020246</td>\n",
              "      <td>-15271</td>\n",
              "      <td>-394</td>\n",
              "      <td>-4106.0</td>\n",
              "      <td>-4106</td>\n",
              "      <td>12.106462</td>\n",
              "      <td>1</td>\n",
              "      <td>1</td>\n",
              "      <td>0</td>\n",
              "      <td>1</td>\n",
              "      <td>0</td>\n",
              "      <td>0</td>\n",
              "      <td>3</td>\n",
              "      <td>3.0</td>\n",
              "      <td>3</td>\n",
              "      <td>3</td>\n",
              "      <td>2</td>\n",
              "      <td>9</td>\n",
              "      <td>0</td>\n",
              "      <td>0</td>\n",
              "      <td>0</td>\n",
              "      <td>0</td>\n",
              "      <td>1</td>\n",
              "      <td>1</td>\n",
              "      <td>39</td>\n",
              "      <td>0.792077</td>\n",
              "      <td>...</td>\n",
              "      <td>0.101865</td>\n",
              "      <td>0.108596</td>\n",
              "      <td>0.008742</td>\n",
              "      <td>0.02848</td>\n",
              "      <td>2</td>\n",
              "      <td>0</td>\n",
              "      <td>0.102585</td>\n",
              "      <td>4</td>\n",
              "      <td>0</td>\n",
              "      <td>10.0</td>\n",
              "      <td>0.0</td>\n",
              "      <td>10.0</td>\n",
              "      <td>0.0</td>\n",
              "      <td>0.0</td>\n",
              "      <td>0</td>\n",
              "      <td>1</td>\n",
              "      <td>0</td>\n",
              "      <td>0</td>\n",
              "      <td>0</td>\n",
              "      <td>0</td>\n",
              "      <td>0</td>\n",
              "      <td>0</td>\n",
              "      <td>0</td>\n",
              "      <td>0</td>\n",
              "      <td>0</td>\n",
              "      <td>0</td>\n",
              "      <td>0</td>\n",
              "      <td>0</td>\n",
              "      <td>0</td>\n",
              "      <td>0</td>\n",
              "      <td>0</td>\n",
              "      <td>0</td>\n",
              "      <td>0</td>\n",
              "      <td>0</td>\n",
              "      <td>0.0</td>\n",
              "      <td>0.0</td>\n",
              "      <td>0.0</td>\n",
              "      <td>0.0</td>\n",
              "      <td>0.0</td>\n",
              "      <td>0.0</td>\n",
              "    </tr>\n",
              "    <tr>\n",
              "      <th>107258</th>\n",
              "      <td>0</td>\n",
              "      <td>0</td>\n",
              "      <td>0</td>\n",
              "      <td>1</td>\n",
              "      <td>0</td>\n",
              "      <td>12.173038</td>\n",
              "      <td>13.661958</td>\n",
              "      <td>10.504218</td>\n",
              "      <td>13.448787</td>\n",
              "      <td>6</td>\n",
              "      <td>7</td>\n",
              "      <td>1</td>\n",
              "      <td>1</td>\n",
              "      <td>1</td>\n",
              "      <td>0.020713</td>\n",
              "      <td>-19966</td>\n",
              "      <td>-1207</td>\n",
              "      <td>-12086.0</td>\n",
              "      <td>-3490</td>\n",
              "      <td>12.106462</td>\n",
              "      <td>1</td>\n",
              "      <td>1</td>\n",
              "      <td>0</td>\n",
              "      <td>1</td>\n",
              "      <td>0</td>\n",
              "      <td>0</td>\n",
              "      <td>8</td>\n",
              "      <td>2.0</td>\n",
              "      <td>3</td>\n",
              "      <td>2</td>\n",
              "      <td>3</td>\n",
              "      <td>12</td>\n",
              "      <td>0</td>\n",
              "      <td>0</td>\n",
              "      <td>0</td>\n",
              "      <td>0</td>\n",
              "      <td>0</td>\n",
              "      <td>0</td>\n",
              "      <td>39</td>\n",
              "      <td>0.501134</td>\n",
              "      <td>...</td>\n",
              "      <td>0.101865</td>\n",
              "      <td>0.108596</td>\n",
              "      <td>0.008742</td>\n",
              "      <td>0.02848</td>\n",
              "      <td>2</td>\n",
              "      <td>0</td>\n",
              "      <td>0.102585</td>\n",
              "      <td>4</td>\n",
              "      <td>0</td>\n",
              "      <td>0.0</td>\n",
              "      <td>0.0</td>\n",
              "      <td>0.0</td>\n",
              "      <td>0.0</td>\n",
              "      <td>-1972.0</td>\n",
              "      <td>0</td>\n",
              "      <td>1</td>\n",
              "      <td>0</td>\n",
              "      <td>0</td>\n",
              "      <td>0</td>\n",
              "      <td>0</td>\n",
              "      <td>0</td>\n",
              "      <td>0</td>\n",
              "      <td>0</td>\n",
              "      <td>0</td>\n",
              "      <td>0</td>\n",
              "      <td>0</td>\n",
              "      <td>0</td>\n",
              "      <td>0</td>\n",
              "      <td>0</td>\n",
              "      <td>0</td>\n",
              "      <td>0</td>\n",
              "      <td>0</td>\n",
              "      <td>0</td>\n",
              "      <td>0</td>\n",
              "      <td>0.0</td>\n",
              "      <td>0.0</td>\n",
              "      <td>0.0</td>\n",
              "      <td>0.0</td>\n",
              "      <td>0.0</td>\n",
              "      <td>5.0</td>\n",
              "    </tr>\n",
              "  </tbody>\n",
              "</table>\n",
              "<p>5 rows × 120 columns</p>\n",
              "</div>"
            ],
            "text/plain": [
              "        NAME_CONTRACT_TYPE  ...  AMT_REQ_CREDIT_BUREAU_YEAR\n",
              "227715                   0  ...                         1.0\n",
              "302014                   0  ...                         2.0\n",
              "281483                   1  ...                         0.0\n",
              "298169                   0  ...                         0.0\n",
              "107258                   0  ...                         5.0\n",
              "\n",
              "[5 rows x 120 columns]"
            ]
          },
          "metadata": {
            "tags": []
          },
          "execution_count": 24
        }
      ]
    },
    {
      "cell_type": "markdown",
      "metadata": {
        "id": "hvjvZyEmNzcq",
        "colab_type": "text"
      },
      "source": [
        "Logistic Regression Base Model"
      ]
    },
    {
      "cell_type": "code",
      "metadata": {
        "id": "cxsbBAB5uGUk",
        "colab_type": "code",
        "colab": {
          "base_uri": "https://localhost:8080/",
          "height": 170
        },
        "outputId": "544eb210-8379-487a-982d-24ab816928bb"
      },
      "source": [
        "from sklearn.linear_model import LogisticRegression\n",
        "from sklearn.metrics import classification_report\n",
        "clf=LogisticRegression(max_iter=1000)\n",
        "clf.fit(X_train,y_train)\n",
        "y_pred=clf.predict(X_test)\n",
        "print(classification_report(y_pred,y_test))"
      ],
      "execution_count": null,
      "outputs": [
        {
          "output_type": "stream",
          "text": [
            "              precision    recall  f1-score   support\n",
            "\n",
            "           0       1.00      0.93      0.96      9226\n",
            "           1       0.00      0.00      0.00         0\n",
            "\n",
            "    accuracy                           0.93      9226\n",
            "   macro avg       0.50      0.46      0.48      9226\n",
            "weighted avg       1.00      0.93      0.96      9226\n",
            "\n"
          ],
          "name": "stdout"
        }
      ]
    },
    {
      "cell_type": "markdown",
      "metadata": {
        "id": "dhfnh9w_N7XR",
        "colab_type": "text"
      },
      "source": [
        "Logistic Regression with parameter Tuning"
      ]
    },
    {
      "cell_type": "code",
      "metadata": {
        "id": "bCIxkfrt8B3u",
        "colab_type": "code",
        "colab": {
          "base_uri": "https://localhost:8080/",
          "height": 221
        },
        "outputId": "e3b88037-81cf-4127-abee-dfcc4a6562cd"
      },
      "source": [
        "from sklearn.model_selection import GridSearchCV\n",
        "param_grid = [    \n",
        "    {'penalty' : ['l1', 'l2'],\n",
        "    'solver' : ['lbfgs','newton-cg','liblinear'],\n",
        "    'max_iter' : [100,2500]\n",
        "    }\n",
        "]\n",
        "gridclf = GridSearchCV(clf, param_grid = param_grid, cv = 2, verbose=True, n_jobs=-1)\n",
        "best_clf = gridclf.fit(X_train,y_train)\n",
        "print(classification_report(best_clf.predict(X_test),y_test))"
      ],
      "execution_count": null,
      "outputs": [
        {
          "output_type": "stream",
          "text": [
            "Fitting 2 folds for each of 12 candidates, totalling 24 fits\n"
          ],
          "name": "stdout"
        },
        {
          "output_type": "stream",
          "text": [
            "[Parallel(n_jobs=-1)]: Using backend LokyBackend with 2 concurrent workers.\n",
            "[Parallel(n_jobs=-1)]: Done  24 out of  24 | elapsed:  3.5min finished\n"
          ],
          "name": "stderr"
        },
        {
          "output_type": "stream",
          "text": [
            "              precision    recall  f1-score   support\n",
            "\n",
            "           0       1.00      0.93      0.96      9210\n",
            "           1       0.02      0.69      0.03        16\n",
            "\n",
            "    accuracy                           0.93      9226\n",
            "   macro avg       0.51      0.81      0.50      9226\n",
            "weighted avg       1.00      0.93      0.96      9226\n",
            "\n"
          ],
          "name": "stdout"
        }
      ]
    },
    {
      "cell_type": "markdown",
      "metadata": {
        "id": "CSf_T86ZOD9J",
        "colab_type": "text"
      },
      "source": [
        "Random Forest Classifier"
      ]
    },
    {
      "cell_type": "code",
      "metadata": {
        "id": "-xRDoi7-zN7o",
        "colab_type": "code",
        "colab": {
          "base_uri": "https://localhost:8080/",
          "height": 170
        },
        "outputId": "c59e744f-1e47-4bac-bdcd-acb540f51bd6"
      },
      "source": [
        "from sklearn.ensemble import RandomForestClassifier\n",
        "rfclf=RandomForestClassifier().fit(X_train,y_train)\n",
        "y_pred=rfclf.predict(X_test)\n",
        "print(classification_report(y_pred,y_test))"
      ],
      "execution_count": null,
      "outputs": [
        {
          "output_type": "stream",
          "text": [
            "              precision    recall  f1-score   support\n",
            "\n",
            "           0       1.00      0.93      0.96      9225\n",
            "           1       0.00      1.00      0.00         1\n",
            "\n",
            "    accuracy                           0.93      9226\n",
            "   macro avg       0.50      0.96      0.48      9226\n",
            "weighted avg       1.00      0.93      0.96      9226\n",
            "\n"
          ],
          "name": "stdout"
        }
      ]
    },
    {
      "cell_type": "markdown",
      "metadata": {
        "id": "wfYaqhrbOOFf",
        "colab_type": "text"
      },
      "source": [
        "XGBoost Classifier"
      ]
    },
    {
      "cell_type": "code",
      "metadata": {
        "id": "IYUxBnKJ0Api",
        "colab_type": "code",
        "colab": {
          "base_uri": "https://localhost:8080/",
          "height": 170
        },
        "outputId": "ca05334f-4107-4be0-a51a-a643b0215531"
      },
      "source": [
        "from xgboost import XGBClassifier\n",
        "xgbclf = XGBClassifier(objective='binary:logistic')\n",
        "xgbclf.fit(X_train,y_train)\n",
        "y_pred=xgbclf.predict(X_test)\n",
        "print(classification_report(y_pred,y_test))"
      ],
      "execution_count": null,
      "outputs": [
        {
          "output_type": "stream",
          "text": [
            "              precision    recall  f1-score   support\n",
            "\n",
            "           0       1.00      0.93      0.96      9216\n",
            "           1       0.01      0.60      0.02        10\n",
            "\n",
            "    accuracy                           0.93      9226\n",
            "   macro avg       0.50      0.76      0.49      9226\n",
            "weighted avg       1.00      0.93      0.96      9226\n",
            "\n"
          ],
          "name": "stdout"
        }
      ]
    },
    {
      "cell_type": "markdown",
      "metadata": {
        "id": "3H2qsc53OUMW",
        "colab_type": "text"
      },
      "source": [
        "LightGBM Classifier"
      ]
    },
    {
      "cell_type": "code",
      "metadata": {
        "id": "T510_bHPjtb4",
        "colab_type": "code",
        "colab": {
          "base_uri": "https://localhost:8080/",
          "height": 170
        },
        "outputId": "aaef7fed-2f4b-44ea-fe44-448f7b799ada"
      },
      "source": [
        "from lightgbm import LGBMClassifier\n",
        "m = LGBMClassifier(boosting_type='gbdt',\n",
        "                       max_depth=5,\n",
        "                       learning_rate=0.05,\n",
        "                       n_estimators=5000,\n",
        "                       min_child_weight=0.01,\n",
        "                       colsample_bytree=0.5,\n",
        "                       random_state=1994,\n",
        "                   eval_metric='Logloss')\n",
        "m.fit(X_train, y_train,verbose=2)\n",
        "y_pred=m.predict(X_test)\n",
        "print(classification_report(y_pred,y_test))"
      ],
      "execution_count": null,
      "outputs": [
        {
          "output_type": "stream",
          "text": [
            "              precision    recall  f1-score   support\n",
            "\n",
            "           0       1.00      0.93      0.96      9167\n",
            "           1       0.04      0.42      0.07        59\n",
            "\n",
            "    accuracy                           0.92      9226\n",
            "   macro avg       0.52      0.68      0.51      9226\n",
            "weighted avg       0.99      0.92      0.95      9226\n",
            "\n"
          ],
          "name": "stdout"
        }
      ]
    }
  ]
}